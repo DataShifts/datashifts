{
 "cells": [
  {
   "cell_type": "code",
   "execution_count": 1,
   "id": "e9d97dd6-ec22-434e-b55d-b9cb719f6833",
   "metadata": {},
   "outputs": [
    {
     "name": "stdout",
     "output_type": "stream",
     "text": [
      "[KeOps] Compiling cuda jit compiler engine ... OK\n",
      "[pyKeOps] Compiling nvrtc binder for python ... OK\n"
     ]
    }
   ],
   "source": [
    "import torch\n",
    "from datashifts import datashifts\n",
    "import time"
   ]
  },
  {
   "cell_type": "markdown",
   "id": "dedcb01d-9978-4779-adb7-3af84da071bb",
   "metadata": {},
   "source": [
    "# Generate simulated data for two different distributions"
   ]
  },
  {
   "cell_type": "code",
   "execution_count": 2,
   "id": "9f8675f4-50a2-4afb-8668-0d8a8f8023fd",
   "metadata": {},
   "outputs": [],
   "source": [
    "N=10000\n",
    "x_dim=1000\n",
    "y_dim=10\n",
    "x_shift=10.0\n",
    "device=\"cuda\"\n",
    "random_directions=torch.rand(1, x_dim, device=device)-0.5\n",
    "x_shift_vector=random_directions/torch.sqrt((random_directions**2).sum())*x_shift\n",
    "x1 = torch.randn(N, x_dim, device=device)\n",
    "x2 = torch.randn(N, x_dim, device=device)+x_shift_vector\n",
    "y1= torch.rand(N, y_dim, device=device)\n",
    "y2= torch.rand(N, y_dim, device=device)"
   ]
  },
  {
   "cell_type": "markdown",
   "id": "fbfc51a1-a41b-4b17-b9d0-012bb1b5b42a",
   "metadata": {},
   "source": [
    "# Using datashifts to measure covariate and concept shifts"
   ]
  },
  {
   "cell_type": "code",
   "execution_count": 3,
   "id": "6f0da62c-bf29-4a1e-b0f7-adc1bae8f471",
   "metadata": {},
   "outputs": [
    {
     "name": "stdout",
     "output_type": "stream",
     "text": [
      "Data volume of (x1,y1,w1) is larger than parameter N_max=5000, sampling strategy is used.\n",
      "Data volume of (x2,y2,w2) is larger than parameter N_max=5000, sampling strategy is used.\n",
      "[KeOps] Generating code for Sum_Reduction reduction (with parameters 1) of formula ((a*g)*Sqrt(Sum((h-i)**2)))*Exp(((b-Sqrt(Sum((c-d)**2)))+e)/f) with a=Var(0,1,0), b=Var(1,1,0), c=Var(2,1000,0), d=Var(3,1000,1), e=Var(4,1,1), f=Var(5,1,2), g=Var(6,1,1), h=Var(7,10,0), i=Var(8,10,1) ... OK\n",
      "Time-consuming:  4.50420069694519\n",
      "Covariate shift:  9.993775540872633\n",
      "Concept shift:  1.2649552822113037\n"
     ]
    }
   ],
   "source": [
    "time0=time.time()\n",
    "Cov,Con=datashifts(x1, x2, y1, y2)\n",
    "print(\"Time-consuming: \",time.time()-time0)\n",
    "print(\"Covariate shift: \",Cov)\n",
    "print(\"Concept shift: \",Con)"
   ]
  },
  {
   "cell_type": "code",
   "execution_count": null,
   "id": "de468556-3983-4068-bf7b-a6b1e1351951",
   "metadata": {},
   "outputs": [],
   "source": []
  }
 ],
 "metadata": {
  "kernelspec": {
   "display_name": "myconda",
   "language": "python",
   "name": "myconda"
  },
  "language_info": {
   "codemirror_mode": {
    "name": "ipython",
    "version": 3
   },
   "file_extension": ".py",
   "mimetype": "text/x-python",
   "name": "python",
   "nbconvert_exporter": "python",
   "pygments_lexer": "ipython3",
   "version": "3.8.12"
  }
 },
 "nbformat": 4,
 "nbformat_minor": 5
}

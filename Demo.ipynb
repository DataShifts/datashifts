{
 "cells": [
  {
   "cell_type": "code",
   "execution_count": 1,
   "id": "e9d97dd6-ec22-434e-b55d-b9cb719f6833",
   "metadata": {},
   "outputs": [],
   "source": [
    "import torch\n",
    "from datashifts import DataShifts\n",
    "import time"
   ]
  },
  {
   "cell_type": "markdown",
   "id": "cfe7b883-ee18-4898-963a-c86b0f6a3662",
   "metadata": {},
   "source": [
    "# Generate data from two different distributions\n",
    "Take labels originating from pure noise as an example."
   ]
  },
  {
   "cell_type": "code",
   "execution_count": 2,
   "id": "9f8675f4-50a2-4afb-8668-0d8a8f8023fd",
   "metadata": {},
   "outputs": [],
   "source": [
    "N=10000       #Number of samples\n",
    "x_dim=200     #Feature dimensions\n",
    "y_dim=10      #Label dimensions\n",
    "x_shift=10.0  #True covariate shift\n",
    "device=\"cuda\" #Device\n",
    "\n",
    "random_directions=torch.randn(1, x_dim, device=device)\n",
    "x_shift_vector=random_directions/((random_directions**2).sum()**(1/2))*x_shift\n",
    "# First distribution\n",
    "x1 = torch.randn(N, x_dim, device=device)\n",
    "y1= torch.rand(N, y_dim, device=device)\n",
    "# Second distribution\n",
    "x2 = torch.randn(N, x_dim, device=device)+x_shift_vector\n",
    "y2= torch.rand(N, y_dim, device=device)"
   ]
  },
  {
   "cell_type": "markdown",
   "id": "481aaf39-4d95-47a8-a594-01a1b7f4a4ca",
   "metadata": {},
   "source": [
    "# Using datashifts to quantify covariate and concept shifts"
   ]
  },
  {
   "cell_type": "code",
   "execution_count": 3,
   "id": "6f0da62c-bf29-4a1e-b0f7-adc1bae8f471",
   "metadata": {},
   "outputs": [
    {
     "name": "stdout",
     "output_type": "stream",
     "text": [
      "The sample size of (x1,y1,w1) is larger than parameter 'N_max'=5000, sampling strategy is used.\n",
      "The sample size of (x2,y2,w2) is larger than parameter 'N_max'=5000, sampling strategy is used.\n",
      "Time-consuming:  3.574336528778076\n",
      "Covariate shift:  tensor(9.9990, device='cuda:0')\n",
      "Concept shift:  tensor(1.2648, device='cuda:0')\n"
     ]
    }
   ],
   "source": [
    "time0=time.time()\n",
    "covariate_shift, concept_shift=DataShifts(x1, x2, y1, y2)\n",
    "print(\"Time-consuming: \",time.time()-time0)\n",
    "print(\"Covariate shift: \", covariate_shift)\n",
    "print(\"Concept shift: \",   concept_shift  )"
   ]
  },
  {
   "cell_type": "code",
   "execution_count": null,
   "id": "189a1964-cfc2-4dd4-aec1-747b5c47fd08",
   "metadata": {},
   "outputs": [],
   "source": []
  }
 ],
 "metadata": {
  "kernelspec": {
   "display_name": "myconda",
   "language": "python",
   "name": "myconda"
  },
  "language_info": {
   "codemirror_mode": {
    "name": "ipython",
    "version": 3
   },
   "file_extension": ".py",
   "mimetype": "text/x-python",
   "name": "python",
   "nbconvert_exporter": "python",
   "pygments_lexer": "ipython3",
   "version": "3.8.12"
  }
 },
 "nbformat": 4,
 "nbformat_minor": 5
}
